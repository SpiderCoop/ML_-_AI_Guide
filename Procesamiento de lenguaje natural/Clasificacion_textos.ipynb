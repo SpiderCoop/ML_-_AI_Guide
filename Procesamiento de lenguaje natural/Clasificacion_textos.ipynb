{
 "cells": [
  {
   "cell_type": "markdown",
   "metadata": {},
   "source": [
    "# Clasifiacion de textos mediante procesamiento de lenguaje natural (NLP)\n",
    "\n",
    "La clasificación de textos mediante procesamiento de lenguaje natural (NLP) es una tarea común en la que se asigna una o más categorías a un texto dado. Este proceso involucra varias etapas, desde la preprocesamiento del texto hasta la selección y entrenamiento del modelo. A continuación se presenta una guía estructurada para realizar la clasificación de textos.\n",
    "\n",
    "Una vez procesados lo textos y usado alguna tecnica o algoritmo para realizar su representación numérica, se selecciona el modelo."
   ]
  },
  {
   "cell_type": "markdown",
   "metadata": {},
   "source": [
    "## Selección y Entrenamiento del Modelo\n",
    "   Una vez que el texto está representado numéricamente, se puede aplicar un modelo de clasificación.\n",
    "\n",
    "   - **Modelos comunes**:\n",
    "     - Naive Bayes\n",
    "     - Support Vector Machines (SVM)\n",
    "     - Random Forest\n",
    "     - Deep Learning (Redes Neuronales)"
   ]
  },
  {
   "cell_type": "code",
   "execution_count": null,
   "metadata": {},
   "outputs": [],
   "source": [
    "# Ejemplo con Naive Bayes:\n",
    "from sklearn.model_selection import train_test_split\n",
    "from sklearn.naive_bayes import MultinomialNB\n",
    "from sklearn.metrics import accuracy_score\n",
    "\n",
    "# Ejemplo de etiquetas\n",
    "labels = [0, 1, 0]  # Supongamos que 0 es 'no spam' y 1 es 'spam'\n",
    "\n",
    "X_train, X_test, y_train, y_test = train_test_split(tfidf, labels, test_size=0.2, random_state=42)\n",
    "\n",
    "model = MultinomialNB()\n",
    "model.fit(X_train, y_train)\n",
    "\n",
    "y_pred = model.predict(X_test)\n",
    "print(\"Accuracy:\", accuracy_score(y_test, y_pred))"
   ]
  },
  {
   "cell_type": "markdown",
   "metadata": {},
   "source": [
    "## Evaluación del Modelo\n",
    "  Después de entrenar el modelo, es importante evaluar su desempeño utilizando métricas adecuadas.\n",
    "\n",
    "  - **Métricas comunes**:\n",
    "    - Accuracy: Proporción de predicciones correctas.\n",
    "    - Precision, Recall, F1-Score: Métricas para evaluar la calidad de la clasificación.\n",
    "    - Matriz de Confusión: Resumen visual de las predicciones correctas e incorrectas."
   ]
  },
  {
   "cell_type": "code",
   "execution_count": null,
   "metadata": {},
   "outputs": [],
   "source": [
    "#Ejemplo de evaluación:\n",
    "\n",
    "from sklearn.metrics import classification_report, confusion_matrix\n",
    "\n",
    "print(confusion_matrix(y_test, y_pred))\n",
    "print(classification_report(y_test, y_pred))\n",
    "   "
   ]
  }
 ],
 "metadata": {
  "kernelspec": {
   "display_name": "Python 3",
   "language": "python",
   "name": "python3"
  },
  "language_info": {
   "name": "python",
   "version": "3.12.2"
  }
 },
 "nbformat": 4,
 "nbformat_minor": 2
}
