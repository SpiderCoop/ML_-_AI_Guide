{
 "cells": [
  {
   "cell_type": "markdown",
   "metadata": {},
   "source": [
    "# Sobre-ajuste y Sub-ajuste\n",
    "\n",
    "El sub-ajuste se presenta cuando hay error alto en las predicciones tanto del conjunto de entrenaimento como en el conjunto de validacion\n",
    "\n",
    "El sobre-ajuste se presenta cuando hay error bajo en las predicciones en el conjunto de entrenamiento y error alto en el conjunto de validacion.\n",
    "\n",
    "Un indicador de sobre-ajuste puede ser que el modelo lineal se encuentra muy cerca de las clases a separar. Esto se puede resolver al mantener un margen de separacion, este es el motivo del modelo de Support Vector Machine."
   ]
  }
 ],
 "metadata": {
  "language_info": {
   "name": "python"
  }
 },
 "nbformat": 4,
 "nbformat_minor": 2
}
