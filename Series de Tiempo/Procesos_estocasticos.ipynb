{
 "cells": [
  {
   "cell_type": "markdown",
   "metadata": {},
   "source": [
    "# Procesis estocasticos\n",
    "\n",
    "Un **proceso estocástico** es una colección de variables aleatorias que evolucionan a lo largo del tiempo o de algún otro índice, y cuyo comportamiento está determinado por la probabilidad. En términos simples, es una forma de modelar fenómenos que cambian de manera impredecible a lo largo del tiempo, pero dentro de un marco probabilístico que sigue ciertas reglas.\n",
    "\n",
    "## Definición Formal\n",
    "Un proceso estocástico se denota matemáticamente como una familia de variables aleatorias $\\{X_t : t \\in T \\}$, donde:\n",
    "- $X_t$ es una variable aleatoria que representa el estado del proceso en el tiempo $t$ o en el índice $t$.\n",
    "- $T$ es un conjunto que puede representar el tiempo (discreto o continuo) o cualquier otro índice.\n",
    "\n",
    "Cada $X_t$ toma valores en un espacio de estados $S$, que puede ser un conjunto finito, infinito o continuo, dependiendo del proceso que se esté modelando.\n",
    "\n",
    "Ejemplo: Imagina que lanzas una moneda repetidamente, registrando si sale cara (1) o cruz (0). El resultado de cada lanzamiento es aleatorio, pero podríamos modelar este proceso como un proceso estocástico $\\{X_t\\}$, donde $X_t = 1$ si el lanzamiento $t$ es cara, y $X_t = 0$ si es cruz. El comportamiento del proceso se describe por probabilidades asociadas a cada resultado."
   ]
  },
  {
   "cell_type": "markdown",
   "metadata": {},
   "source": [
    "## Tipos de Procesos Estocásticos\n",
    "Existen varios tipos de procesos estocásticos, dependiendo de las propiedades que tengan:\n",
    "\n",
    "1. **Proceso de Tiempo Discreto**: \n",
    "   - Aquí, el índice $t$ toma valores discretos, como $t = 0, 1, 2, 3, \\dots$.\n",
    "   - Un ejemplo es una cadena de Markov en tiempo discreto, donde el estado del proceso solo puede cambiar en pasos discretos.\n",
    "\n",
    "2. **Proceso de Tiempo Continuo**:\n",
    "   - En este caso, el índice $t$ puede tomar cualquier valor real dentro de un intervalo, como $t \\in [0, \\infty)$.\n",
    "   - Un ejemplo es el movimiento browniano, que modela el movimiento de partículas en un fluido.\n",
    "\n",
    "3. **Proceso de Estado Discreto**:\n",
    "   - El espacio de estados $S$ es finito o numerable, como en el caso de un proceso de Poisson, donde el número de eventos en un intervalo de tiempo es un valor entero.\n",
    "\n",
    "4. **Proceso de Estado Continuo**:\n",
    "   - Aquí, el espacio de estados $S$ es continuo, como en los procesos gaussianos o el movimiento browniano."
   ]
  },
  {
   "cell_type": "markdown",
   "metadata": {},
   "source": [
    "## Propiedades Clave\n",
    "\n",
    "1. **Estacionariedad**:\n",
    "   - Un proceso estocástico es **estrictamente estacionario** si las propiedades estadísticas (media, varianza, etc.) no cambian con el tiempo. \n",
    "   - Un proceso **débilmente estacionario** solo requiere que la media y la autocovarianza sean constantes en el tiempo.\n",
    "\n",
    "2. **Ergodicidad**:\n",
    "   - Un proceso es ergódico si las estadísticas a largo plazo de una sola realización del proceso son iguales a las estadísticas esperadas en el tiempo. Esto implica que podemos inferir las propiedades del proceso a partir de una muestra suficientemente grande.\n",
    "\n",
    "3. **Markoviano**:\n",
    "   - Un proceso tiene la **propiedad de Markov** si la probabilidad de que ocurra un evento en el futuro solo depende del estado actual y no de los eventos pasados."
   ]
  },
  {
   "cell_type": "markdown",
   "metadata": {},
   "source": [
    "## Procesos Estocásticos Comunes\n",
    "\n",
    "### 1. **Movimiento Browniano**\n",
    "   - **Descripción**: Es uno de los procesos estocásticos más conocidos y describe el movimiento aleatorio de partículas en un fluido, como polen en el agua o moléculas de gas en el aire. Matemáticamente, es un proceso de tiempo continuo en el que cada incremento es una variable aleatoria con distribución normal (gaussiana) con media cero y varianza proporcional al tiempo transcurrido.\n",
    "   - **Aplicaciones**: En finanzas, se utiliza para modelar el precio de activos en el tiempo (Modelo de Black-Scholes). También se usa en física para modelar el movimiento de partículas, y en biología para modelar el movimiento aleatorio de células o moléculas.\n",
    "   - **Propiedades**: \n",
    "     - Es un proceso gaussiano.\n",
    "     - Tiene incrementos independientes y estacionarios.\n",
    "     - Tiene trayectorias continuas pero no diferenciables.\n",
    "     - La varianza de los incrementos aumenta linealmente con el tiempo.\n",
    "\n",
    "   - **Representación Matemática**:\n",
    "     $$\n",
    "     B(t) \\sim \\mathcal{N}(0, t)\n",
    "     $$\n",
    "     Donde $B(t)$ es el valor del proceso en el tiempo $t$, y sigue una distribución normal con media 0 y varianza $t$. Los incrementos son independientes y estacionarios:\n",
    "     $$\n",
    "     B(t + s) - B(t) \\sim \\mathcal{N}(0, s)\n",
    "     $$"
   ]
  },
  {
   "cell_type": "markdown",
   "metadata": {},
   "source": [
    "### 2. **Cadenas de Markov**\n",
    "   - **Descripción**: Es un proceso de tiempo discreto que sigue la **propiedad de Markov**, donde la probabilidad de estar en un estado futuro solo depende del estado presente, no del pasado. Esto lo convierte en un proceso de \"memoria sin memoria\".\n",
    "   - **Aplicaciones**: Modelado de sistemas de colas, predicción del clima, procesamiento de lenguaje natural, sistemas de recomendación y muchos otros sistemas en los que los futuros estados dependen únicamente del estado actual.\n",
    "   - **Propiedades**:\n",
    "     - Tiene la propiedad de Markov.\n",
    "     - Las probabilidades de transición entre estados están definidas por una **matriz de transición**.\n",
    "     - Puede ser utilizado para describir sistemas de estados finitos o infinitos.\n",
    "   \n",
    "   - **Representación Matemática**:\n",
    "     Si $X_t$ representa el estado en el tiempo $t$, entonces:\n",
    "     $$\n",
    "     \\mathbb{P}(X_{t+1} = x | X_t = x_t, X_{t-1} = x_{t-1}, \\dots) = \\mathbb{P}(X_{t+1} = x | X_t = x_t)\n",
    "     $$\n",
    "     Esto significa que la probabilidad futura solo depende del estado actual y no de los estados pasados. Para una cadena de Markov de tiempo discreto con $n$ estados, se utiliza una matriz de transición $P$ donde:\n",
    "     $$\n",
    "     P_{ij} = \\mathbb{P}(X_{t+1} = j | X_t = i)\n",
    "     $$"
   ]
  },
  {
   "cell_type": "markdown",
   "metadata": {},
   "source": [
    "### 3. **Proceso de Poisson**\n",
    "   - **Descripción**: Este es un proceso de tiempo continuo que modela la ocurrencia de eventos que suceden de manera independiente y aleatoria a lo largo del tiempo. El número de eventos en cualquier intervalo de tiempo tiene una distribución de Poisson.\n",
    "   - **Aplicaciones**: Modela la llegada de llamadas a un centro de atención, llegadas de clientes a un establecimiento, eventos en sistemas de telecomunicaciones, o incluso fenómenos naturales como terremotos.\n",
    "   - **Propiedades**:\n",
    "     - Los eventos son independientes entre sí.\n",
    "     - El número de eventos en un intervalo de tiempo sigue una distribución de Poisson.\n",
    "     - Los tiempos entre eventos consecutivos siguen una distribución exponencial.\n",
    "     \n",
    "   - **Representación Matemática**:\n",
    "     El número de eventos $N(t)$ hasta el tiempo $t$ sigue una distribución de Poisson:\n",
    "     $$\n",
    "     \\mathbb{P}(N(t) = k) = \\frac{(\\lambda t)^k e^{-\\lambda t}}{k!}\n",
    "     $$\n",
    "     Donde $\\lambda$ es la tasa promedio de ocurrencia de eventos por unidad de tiempo.\n"
   ]
  },
  {
   "cell_type": "markdown",
   "metadata": {},
   "source": [
    "### 4. **Proceso de Wiener**\n",
    "   - **Descripción**: Este es un caso particular del movimiento browniano, utilizado específicamente en finanzas y matemáticas aplicadas. Es un proceso de tiempo continuo con incrementos gaussianos independientes y distribuidos idénticamente.\n",
    "   - **Aplicaciones**: Modelo básico en la teoría de difusión y la física estadística, también es la base para el cálculo estocástico en finanzas, usado para modelar el comportamiento de los precios de los activos.\n",
    "   - **Propiedades**:\n",
    "     - Es un proceso gaussiano.\n",
    "     - Tiene incrementos estacionarios y normales.\n",
    "     - Sus trayectorias son continuas y no diferenciables.\n",
    "     \n",
    "   - **Representación Matemática**:\n",
    "     El proceso de Wiener $W(t)$ es un caso particular del movimiento browniano. Sigue una distribución normal con media 0 y varianza $t$:\n",
    "     $$\n",
    "     W(t) \\sim \\mathcal{N}(0, t)\n",
    "     $$\n",
    "     Además, para dos tiempos $s$ y $t$, los incrementos son independientes:\n",
    "     $$\n",
    "     W(t) - W(s) \\sim \\mathcal{N}(0, t - s)\n",
    "     $$\n"
   ]
  },
  {
   "cell_type": "markdown",
   "metadata": {},
   "source": [
    "### 5. **Proceso de Ornstein-Uhlenbeck**\n",
    "   - **Descripción**: Es una generalización del movimiento browniano donde hay una tendencia a regresar hacia una media. Se utiliza para modelar fenómenos en los que hay un \"empuje\" hacia un valor central, como la velocidad de una partícula que experimenta fricción.\n",
    "   - **Aplicaciones**: Se usa en finanzas para modelar tasas de interés (modelo de Vasicek) y en física para describir el movimiento de partículas sujetas a fuerzas de restauración.\n",
    "   - **Propiedades**:\n",
    "     - Tiene incrementos gaussianos.\n",
    "     - Exhibe una tendencia a regresar hacia una media (reversión a la media).\n",
    "     - Es un proceso estacionario en su estado estable.\n",
    "\n",
    "   - **Representación Matemática**:\n",
    "     El proceso de Ornstein-Uhlenbeck está descrito por la siguiente ecuación diferencial estocástica (EDS):\n",
    "     $$\n",
    "     dX_t = \\theta (\\mu - X_t) dt + \\sigma dW_t\n",
    "     $$\n",
    "     Donde $\\theta$ es la velocidad de reversión a la media $\\mu$, $\\sigma$ es la volatilidad, y $W_t$ es un proceso de Wiener.\n"
   ]
  },
  {
   "cell_type": "markdown",
   "metadata": {},
   "source": [
    "### 6. **Proceso de renovación**\n",
    "   - **Descripción**: Es un proceso de tiempo continuo que describe el momento de ocurrencia de eventos que se repiten de manera aleatoria, con tiempos de espera entre eventos distribuidos de manera independiente y siguiendo la misma distribución.\n",
    "   - **Aplicaciones**: Modela sistemas de reemplazo de componentes o máquinas, donde los tiempos entre fallos son variables, pero tienen la misma distribución. También se usa para analizar patrones de fallos o tiempos de recuperación en sistemas biológicos o electrónicos.\n",
    "   - **Propiedades**:\n",
    "     - Los tiempos entre eventos siguen una distribución arbitraria.\n",
    "     - El proceso cuenta el número de eventos ocurridos hasta cierto tiempo.\n",
    "     - Los tiempos de espera son independientes pero idénticamente distribuidos.\n",
    "\n",
    "   - **Representación Matemática**:\n",
    "     Sea $X_i$ el tiempo entre el $i$-ésimo y el $(i+1)$-ésimo evento. Entonces el proceso de renovación $N(t)$ cuenta el número de eventos que han ocurrido hasta el tiempo $t$:\n",
    "     $$\n",
    "     N(t) = \\max \\left\\{ n \\in \\mathbb{N} : \\sum_{i=1}^n X_i \\leq t \\right\\}\n",
    "     $$\n",
    "     Donde los $X_i$ son tiempos independientes y distribuidos según una función de distribución $F(x)$."
   ]
  },
  {
   "cell_type": "markdown",
   "metadata": {},
   "source": [
    "### 7. **Proceso Gaussiano**\n",
    "   - **Descripción**: Es un proceso estocástico en el que cualquier subconjunto finito de variables aleatorias tiene una distribución conjunta gaussiana (normal). Es un proceso muy flexible y ampliamente utilizado para modelar fenómenos continuos y suaves.\n",
    "   - **Aplicaciones**: Utilizado en aprendizaje automático, específicamente en modelos de regresión gaussiana, y en física para describir campos aleatorios.\n",
    "   - **Propiedades**:\n",
    "     - Es completamente descrito por su media y función de covarianza.\n",
    "     - Se usa frecuentemente cuando se asume que los datos o procesos son suaves o continúan.\n",
    "     \n",
    "   - **Representación Matemática**:\n",
    "     Un proceso gaussiano está completamente definido por su función de media $m(t)$ y su función de covarianza $K(t, s)$. Para cualquier conjunto finito de tiempos $t_1, t_2, \\dots, t_n$, las variables $X(t_1), X(t_2), \\dots, X(t_n)$ tienen una distribución conjunta multivariada normal:\n",
    "     $$\n",
    "     X(t) \\sim \\mathcal{N}(m(t), K(t, s))\n",
    "     $$\n",
    "     Donde $m(t) = \\mathbb{E}[X(t)]$ y $K(t, s) = \\text{Cov}(X(t), X(s))$.\n"
   ]
  },
  {
   "cell_type": "markdown",
   "metadata": {},
   "source": [
    "### 8. **Proceso de Cox-Ingersoll-Ross (CIR)**\n",
    "   - **Descripción**: Es un proceso de tiempo continuo utilizado para modelar variables que deben ser estrictamente positivas, como tasas de interés o volatilidades en finanzas. Es una forma especial del proceso de Ornstein-Uhlenbeck, pero con restricciones para garantizar que las variables nunca sean negativas.\n",
    "   - **Aplicaciones**: Modelo CIR para la evolución de tasas de interés o volatilidades en modelos financieros.\n",
    "   - **Propiedades**:\n",
    "     - Tiene reversión a la media, lo que lo hace adecuado para modelar fenómenos que tienden a estabilizarse.\n",
    "     - La varianza es proporcional al valor de la variable, por lo que evita valores negativos.\n",
    "\n",
    "   - **Representación Matemática**:\n",
    "     El proceso CIR sigue la siguiente ecuación diferencial estocástica:\n",
    "     $$\n",
    "     dX_t = \\theta (\\mu - X_t) dt + \\sigma \\sqrt{X_t} dW_t\n",
    "     $$\n",
    "     Donde $\\theta$ es la velocidad de reversión, $\\mu$ es el nivel a largo plazo, $\\sigma$ es el parámetro de volatilidad y $W_t$ es un proceso de Wiener.\n"
   ]
  },
  {
   "cell_type": "markdown",
   "metadata": {},
   "source": [
    "### 9. **Cadenas de Markov de Tiempo Continuo**\n",
    "   - **Descripción**: Es una extensión de las cadenas de Markov de tiempo discreto, pero en este caso el proceso avanza de manera continua en el tiempo. Los cambios de estado ocurren en tiempos aleatorios, que siguen distribuciones exponenciales.\n",
    "   - **Aplicaciones**: Se usan en modelos de colas, redes de telecomunicaciones, y en biología para modelar sistemas de reacciones químicas o procesos celulares.\n",
    "   - **Propiedades**:\n",
    "     - Tiene transiciones de estado en tiempos exponenciales.\n",
    "     - La probabilidad de transición sigue siendo determinada por una matriz de transición, pero ajustada para tiempos continuos.\n",
    "\n",
    "   - **Representación Matemática**:\n",
    "     La matriz de transición en tiempo continuo está descrita por la matriz $Q$ de tasas de transición. Si $X(t)$ es el estado en el tiempo $t$, la probabilidad de transición está dada por:\n",
    "     $$\n",
    "     \\mathbb{P}(X(t+s) = j | X(t) = i) = (e^{Qs})_{ij}\n",
    "     $$\n",
    "     Donde $e^{Qs}$ es la exponencial de la matriz $Q$.\n"
   ]
  },
  {
   "cell_type": "markdown",
   "metadata": {},
   "source": [
    "### 10. **Proceso de Lévy**\n",
    "   - **Descripción**: Este es un proceso estocástico de tiempo continuo que generaliza el movimiento browniano permitiendo saltos (cambios discontinuos) en las trayectorias. El proceso de Poisson es un caso especial del proceso de Lévy.\n",
    "   - **Aplicaciones**: En finanzas para modelar los precios de activos que tienen grandes fluctuaciones repentinas. En telecomunicaciones, para modelar llegadas de paquetes en una red.\n",
    "   - **Propiedades**:\n",
    "     - Tiene incrementos independientes.\n",
    "     - Sus trayectorias pueden tener saltos, lo que lo diferencia de procesos suaves como el movimiento browniano.\n",
    "\n",
    "   - **Representación Matemática**:\n",
    "     El proceso de Lévy $X(t)$ tiene incrementos independientes y estacionarios, y está compuesto por un movimiento browniano y una suma de saltos:\n",
    "     $$\n",
    "     X(t) = B(t) + \\sum_{i=1}^{N(t)} Y_i\n",
    "     $$\n",
    "     Donde $B(t)$ es un movimiento browniano, $N(t)$ es un proceso de Poisson que cuenta los saltos, y $Y_i$ son los tamaños de los saltos.\n"
   ]
  },
  {
   "cell_type": "markdown",
   "metadata": {},
   "source": [
    "### 11. **Proceso de Autoregresión (AR)**\n",
    "   - **Descripción**: Es un proceso de tiempo discreto en el que el valor de la variable en un tiempo dado depende linealmente de sus valores anteriores más un término de error.\n",
    "   - **Aplicaciones**: Es usado en series temporales para modelar fenómenos económicos, datos de clima, y señales en telecomunicaciones.\n",
    "   - **Propiedades**:\n",
    "     - Es un proceso estacionario.\n",
    "     - Los valores futuros se predicen a partir de una combinación lineal de valores pasados.\n",
    "\n",
    "   - **Representación Matemática**:\n",
    "     Un proceso autoregresivo de orden $p$ está dado por:\n",
    "     $$\n",
    "     X_t = \\phi_1 X_{t-1} + \\phi_2 X_{t-2} + \\dots + \\phi_p X_{t-p} + \\epsilon_t\n",
    "     $$\n",
    "     Donde $\\phi_1, \\dots, \\phi_p$ son los coeficientes autoregresivos, y $\\epsilon_t$ es un ruido blanco con media cero y varianza constante.\n"
   ]
  },
  {
   "cell_type": "markdown",
   "metadata": {},
   "source": [
    "### 12. **Proceso Autorregresivo Integrado de Media Móvil (ARIMA)**\n",
    "   - **Descripción**: Es una combinación de procesos autoregresivos y de medias móviles, con un componente de integración que lo hace apto para modelar series temporales no estacionarias. \n",
    "   - **Aplicaciones**: Utilizado en economía para predecir datos de series temporales como el PIB, tasas de desempleo o datos financieros.\n",
    "   - **Propiedades**:\n",
    "     - Capaz de modelar tanto series estacionarias como no estacionarias.\n",
    "     - La combinación de autoregresión y medias móviles le otorga flexibilidad en el modelado.\n",
    "\n",
    "   - **Representación Matemática**:\n",
    "     Un proceso ARIMA de orden $(p, d, q)$ se escribe como:\n",
    "     $$\n",
    "     \\Delta^d X_t = \\phi_1 X_{t-1} + \\dots + \\phi_p X_{t-p} + \\theta_1 \\epsilon_{t-1} + \\dots + \\theta_q \\epsilon_{t-q} + \\epsilon_t\n",
    "     $$\n",
    "     Donde $\\Delta^d X_t$ es la diferencia de orden $d$, $\\phi_i$ son los coeficientes autoregresivos, $\\theta_i$ son los coeficientes de la media móvil, y $\\epsilon_t$ es un término de ruido blanco."
   ]
  },
  {
   "cell_type": "markdown",
   "metadata": {},
   "source": [
    "## Aplicaciones de los Procesos Estocásticos\n",
    "Los procesos estocásticos son esenciales en muchas áreas, incluyendo:\n",
    "\n",
    "- **Finanzas**: Modelado de precios de activos financieros, tasas de interés y volatilidades mediante procesos como el movimiento browniano.\n",
    "- **Ciencias Físicas**: Modelado del movimiento de partículas, fluctuaciones térmicas, y otros fenómenos aleatorios en física.\n",
    "- **Ciencias de la Computación**: En la teoría de colas, simulación de eventos discretos, y algoritmos probabilísticos.\n",
    "- **Biología**: Modelado del crecimiento de poblaciones y la propagación de enfermedades.\n",
    "- **Procesos de Lenguaje Natural**: Modelos como las cadenas de Markov se utilizan en el procesamiento de lenguaje natural para modelar secuencias de palabras y frases.\n"
   ]
  },
  {
   "cell_type": "code",
   "execution_count": null,
   "metadata": {},
   "outputs": [],
   "source": []
  }
 ],
 "metadata": {
  "language_info": {
   "name": "python"
  }
 },
 "nbformat": 4,
 "nbformat_minor": 2
}
