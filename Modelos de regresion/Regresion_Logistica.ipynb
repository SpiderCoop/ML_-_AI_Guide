{
 "cells": [
  {
   "cell_type": "markdown",
   "metadata": {},
   "source": [
    "# Modelo de Regresión Logística\n",
    "\n",
    "La regresión logística es un tipo de modelo lineal generalizado que se utiliza principalmente para problemas de clasificación binaria, donde la variable dependiente tiene dos posibles resultados, como 0 y 1, o \"sí\" y \"no\". A diferencia de la regresión lineal, que predice un valor continuo, la regresión logística estima la probabilidad de que una observación pertenezca a una clase particular. Esta probabilidad se mapea mediante una función logística (o sigmoide), lo que garantiza que los valores predichos estén comprendidos entre 0 y 1, facilitando la clasificación en una de las dos categorías."
   ]
  },
  {
   "cell_type": "markdown",
   "metadata": {},
   "source": [
    "## Componentes del modelo\n",
    "\n",
    "- **Distribución:** Binomial\n",
    "- **Función de Enlace:** Logit $ g(\\mu) = \\log\\left(\\frac{\\mu}{1 - \\mu}\\right) $\n",
    "- **Aplicación:** Modela probabilidades de un evento binario (clasificación binaria)."
   ]
  },
  {
   "cell_type": "markdown",
   "metadata": {},
   "source": [
    "## Ecuación del Modelo\n",
    "\n",
    "La regresión logística modela la relación entre una o más variables independientes y la probabilidad de que un evento ocurra. La ecuación del modelo se basa en la función logística, la cual se obtiene de despejar $\\mu$ de la funcion de enlace:\n",
    "\n",
    "$$\n",
    "\\log\\left(\\frac{\\mu}{1 - \\mu}\\right) = \\beta_0 + \\beta_1 x_1 + \\beta_2 x_2 + \\dots + \\beta_n x_n\n",
    "$$\n",
    "\n",
    "$$\n",
    "\\Rightarrow\n",
    "$$\n",
    "\n",
    "$$\n",
    "\\mu = P(y=1|x) = \\frac{1}{1 + e^{-(\\beta_0 + \\beta_1 x_1 + \\beta_2 x_2 + \\dots + \\beta_n x_n)}}\n",
    "$$\n",
    "\n",
    "donde:\n",
    "- $P(y=1|x)$ es la probabilidad de que la variable dependiente $y$ sea 1 dado un conjunto de variables independientes $x$.\n",
    "- $\\beta_0$ es el intercepto.\n",
    "- $\\beta_1, \\beta_2, \\dots, \\beta_n$ son los coeficientes de las variables independientes $x_1, x_2, \\dots, x_n$."
   ]
  },
  {
   "cell_type": "markdown",
   "metadata": {},
   "source": [
    "## Función Sigmoide\n",
    "\n",
    "La función sigmoide transforma cualquier valor real en un rango entre 0 y 1, lo que la hace ideal para modelar probabilidades:\n",
    "\n",
    "$$\n",
    "\\sigma(z) = \\frac{1}{1 + e^{-z}}\n",
    "$$\n",
    "\n",
    "donde $z = \\beta_0 + \\beta_1 x_1 + \\beta_2 x_2 + \\dots + \\beta_n x_n$."
   ]
  },
  {
   "cell_type": "markdown",
   "metadata": {},
   "source": [
    "## Interpretación de Coeficientes\n",
    "\n",
    "Cada coeficiente $\\beta_i$ en el modelo logístico se interpreta como el cambio en el log-odds de la respuesta por unidad de cambio en la variable independiente correspondiente. En otras palabras, $\\beta_i$ mide el efecto de $x_i$ sobre la probabilidad de que $y = 1$.\n",
    "\n",
    "El log-odds se define como:\n",
    "\n",
    "$$\n",
    "\\log\\left(\\frac{P(y=1|x)}{1 - P(y=1|x)}\\right) = \\beta_0 + \\beta_1 x_1 + \\beta_2 x_2 + \\dots + \\beta_n x_n\n",
    "$$"
   ]
  },
  {
   "cell_type": "markdown",
   "metadata": {},
   "source": [
    "## Ajuste del Modelo\n",
    "\n",
    "El modelo se ajusta utilizando el método de máxima verosimilitud, que busca encontrar los valores de $\\beta_0, \\beta_1, \\dots, \\beta_n$ que maximicen la probabilidad de observar los datos reales dados los valores de las variables independientes.\n",
    "\n",
    "## Evaluación del Modelo\n",
    "\n",
    "- **Precisión**: La proporción de predicciones correctas.\n",
    "- **Matriz de Confusión**: Tabla que compara las predicciones del modelo con las clases reales.\n",
    "- **ROC y AUC**: La curva ROC y el área bajo la curva (AUC) miden el rendimiento del modelo al cambiar el umbral de decisión.\n",
    "- **Odds Ratio**: Expresa cómo cambia la probabilidad de un evento cuando una variable independiente aumenta en una unidad."
   ]
  },
  {
   "cell_type": "markdown",
   "metadata": {},
   "source": [
    "## Ejemplo en Python"
   ]
  },
  {
   "cell_type": "code",
   "execution_count": null,
   "metadata": {},
   "outputs": [],
   "source": [
    "import numpy as np\n",
    "from sklearn.model_selection import train_test_split\n",
    "from sklearn.linear_model import LogisticRegression\n",
    "from sklearn.metrics import accuracy_score, roc_auc_score, confusion_matrix\n",
    "\n",
    "# Generar datos de ejemplo\n",
    "np.random.seed(0)\n",
    "X = np.random.randn(100, 2)\n",
    "y = (X[:, 0] + X[:, 1] > 0).astype(int)\n",
    "\n",
    "# Dividir los datos en conjuntos de entrenamiento y prueba\n",
    "X_train, X_test, y_train, y_test = train_test_split(X, y, test_size=0.3, random_state=42)\n",
    "\n",
    "# Crear el modelo de regresión logística\n",
    "model = LogisticRegression()\n",
    "\n",
    "# Ajustar el modelo a los datos de entrenamiento\n",
    "model.fit(X_train, y_train)\n",
    "\n",
    "# Hacer predicciones\n",
    "y_pred = model.predict(X_test)\n",
    "\n",
    "# Evaluar el modelo\n",
    "accuracy = accuracy_score(y_test, y_pred)\n",
    "roc_auc = roc_auc_score(y_test, model.predict_proba(X_test)[:, 1])\n",
    "conf_matrix = confusion_matrix(y_test, y_pred)\n",
    "\n",
    "print(f'Precisión: {accuracy}')\n",
    "print(f'ROC AUC: {roc_auc}')\n",
    "print(f'Matriz de Confusión:\\n {conf_matrix}')"
   ]
  }
 ],
 "metadata": {
  "kernelspec": {
   "display_name": "Python 3",
   "language": "python",
   "name": "python3"
  },
  "language_info": {
   "name": "python",
   "version": "3.12.2"
  }
 },
 "nbformat": 4,
 "nbformat_minor": 2
}
