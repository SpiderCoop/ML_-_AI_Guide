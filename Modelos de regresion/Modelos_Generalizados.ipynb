{
 "cells": [
  {
   "cell_type": "markdown",
   "metadata": {},
   "source": [
    "# Modelos de Regresion Generalizados\n",
    "\n",
    "Los Modelos de Regresión Generalizada (Generalized Linear Models o GLMs) son una extensión de los modelos de regresión lineal que permiten modelar relaciones entre una variable dependiente y una o más variables independientes cuando la variable dependiente sigue una distribución diferente a la normal. Los GLMs son flexibles y permiten ajustar modelos para una variedad de distribuciones de probabilidad y relaciones no lineales mediante el uso de funciones de enlace (link functions)."
   ]
  },
  {
   "cell_type": "markdown",
   "metadata": {},
   "source": [
    "## Componentes de los Modelos de Regresión Generalizada\n",
    "\n",
    "1. **Función de Enlace (Link Function):** Establece una relación entre la variable dependiente $y$ y la combinación lineal de las variables independientes. La función de enlace es denotada por $g(\\mu)$, donde $\\mu$ es la media de la distribución de la variable dependiente. La función de enlace es necesaria porque, en muchos casos, la relación entre la media de la variable dependiente y las variables independientes no es lineal, o la variable dependiente no sigue una distribución normal. Al usar una función de enlace, se puede transformar la media esperada $\\mu$ para que esté relacionada de manera lineal con las variables independientes.\n",
    "\n",
    "2. **Distribución de la Familia Exponencial:** La variable dependiente $y$ se asume que sigue una distribución que pertenece a la familia exponencial (ej., normal, binomial, Poisson, etc.).\n",
    "\n",
    "3. **Función Lineal Predictora:** $ \\eta = \\beta_0 + \\beta_1x_1 + \\beta_2x_2 + \\cdots + \\beta_p x_p $, donde $ \\eta $ es la combinación lineal de las variables independientes."
   ]
  },
  {
   "cell_type": "markdown",
   "metadata": {},
   "source": [
    "## Tipos de Modelos de Regresión Generalizada\n",
    "\n",
    "Cada GLM tiene una función de enlace y una distribución asociada, que se elige según la naturaleza de los datos y el tipo de variable dependiente:\n",
    "\n",
    "1. **Regresión Lineal:**\n",
    "   - **Distribución:** Normal (Gaussian)\n",
    "   - **Función de Enlace:** Identidad $ g(\\mu) = \\mu $\n",
    "   - **Aplicación:** Modela una variable dependiente continua.\n",
    "\n",
    "2. **Regresión Logística:**\n",
    "   - **Distribución:** Binomial\n",
    "   - **Función de Enlace:** Logit $ g(\\mu) = \\log\\left(\\frac{\\mu}{1 - \\mu}\\right) $\n",
    "   - **Aplicación:** Modela probabilidades de un evento binario (clasificación binaria).\n",
    "\n",
    "3. **Regresión Poisson:**\n",
    "   - **Distribución:** Poisson\n",
    "   - **Función de Enlace:** Logarítmica $ g(\\mu) = \\log(\\mu) $\n",
    "   - **Aplicación:** Modela conteos de eventos que ocurren en un intervalo de tiempo o espacio.\n",
    "\n",
    "4. **Regresión Gamma:**\n",
    "   - **Distribución:** Gamma\n",
    "   - **Función de Enlace:** Inversa $ g(\\mu) = \\frac{1}{\\mu} $\n",
    "   - **Aplicación:** Modela variables dependientes continuas positivas, especialmente cuando la varianza aumenta con la media.\n",
    "\n",
    "5. **Regresión Inversa Gaussiana (Inverse Gaussian):**\n",
    "   - **Distribución:** Inversa Gaussiana\n",
    "   - **Función de Enlace:** Inversa cuadrada $ g(\\mu) = \\frac{1}{\\mu^2} $\n",
    "   - **Aplicación:** Modela tiempos de espera hasta el evento o variables continuas positivas.\n",
    "\n",
    "6. **Regresión Binomial Negativa:**\n",
    "   - **Distribución:** Binomial Negativa\n",
    "   - **Función de Enlace:** Logarítmica $ g(\\mu) = \\log(\\mu) $\n",
    "   - **Aplicación:** Similar a la regresión de Poisson, pero permite sobre-dispersión (varianza mayor que la media).\n",
    "\n",
    "7. **Regresión Cuasi-Poisson:**\n",
    "   - **Distribución:** Cuasi-Poisson (no es de la familia exponencial, pero se usa para modelar datos de conteo con sobre-dispersión)\n",
    "   - **Función de Enlace:** Logarítmica $ g(\\mu) = \\log(\\mu) $\n",
    "   - **Aplicación:** Modela conteos con varianza mayor que la media."
   ]
  },
  {
   "cell_type": "markdown",
   "metadata": {},
   "source": [
    "## Resumen\n",
    "\n",
    "| Modelo                | Distribución    | Función de Enlace       | Aplicación                                     |\n",
    "|-----------------------|-----------------|-------------------------|------------------------------------------------|\n",
    "| Regresión Lineal      | Normal          | Identidad $g(\\mu) = \\mu$ | Variables dependientes continuas               |\n",
    "| Regresión Logística   | Binomial        | Logit $g(\\mu) = \\log\\left(\\frac{\\mu}{1-\\mu}\\right)$ | Clasificación binaria                        |\n",
    "| Regresión Poisson     | Poisson         | Logarítmica $g(\\mu) = \\log(\\mu)$ | Conteo de eventos                             |\n",
    "| Regresión Gamma       | Gamma           | Inversa $g(\\mu) = \\frac{1}{\\mu}$ | Variables continuas positivas                 |\n",
    "| Regresión Inversa Gaussiana | Inversa Gaussiana | Inversa cuadrada $g(\\mu) = \\frac{1}{\\mu^2}$ | Tiempos de espera, variables continuas positivas |\n",
    "| Regresión Binomial Negativa | Binomial Negativa | Logarítmica $g(\\mu) = \\log(\\mu)$ | Conteo de eventos con sobre-dispersión        |\n",
    "| Regresión Cuasi-Poisson | Cuasi-Poisson | Logarítmica $g(\\mu) = \\log(\\mu)$ | Conteo de eventos con sobre-dispersión        |\n",
    "\n",
    "Cada tipo de modelo en los GLMs está diseñado para ajustarse a diferentes tipos de datos y relaciones entre las variables, permitiendo una mayor flexibilidad en el análisis de datos complejos."
   ]
  }
 ],
 "metadata": {
  "language_info": {
   "name": "python"
  }
 },
 "nbformat": 4,
 "nbformat_minor": 2
}
