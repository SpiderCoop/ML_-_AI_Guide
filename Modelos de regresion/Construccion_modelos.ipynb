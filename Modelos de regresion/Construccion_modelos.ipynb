{
 "cells": [
  {
   "cell_type": "markdown",
   "metadata": {},
   "source": [
    "# Métodos de construccion de modelos\n",
    "\n",
    "Existen diferentes metodos para la construccion de un modelo con las variables necesarias y/o relevantes para que tenga un buen desempeño de manera consistente. Sin embargo, el método por defecto que se toma por la comunidad es Backward elimination por ser sencillo y rapido para obtener el modelo final.\n",
    "\n",
    "## **Backward elimination** \n",
    "\n",
    "1. Selecciona un nivel de significancia, normalmente se toma 5%\n",
    "2. Crea el modelo con todas las variables predictoras disponibles\n",
    "3. Elimina aquella variable que muestre el mayor valor-p tal que su valor-p > nivel de significancia\n",
    "4. Ajusta el modelo sin la variable\n",
    "5. Repite los pasos 3 y 4 hasta que los valores-p de todas las variables se encuentren por debajo del nivel de significancia. \n",
    "\n",
    "## **Fordward slection**\n",
    "\n",
    "1. Selecciona un nivel de significancia, normalmente se toma 5%\n",
    "2. Crea todos los modelos de regresion simple posibles, es decir, crea un modelo por cada variable predictora.\n",
    "3. Selecciona el modelo con el menor valor-p\n",
    "4. Crea todos los modelos posibles agregando una variable al modelo anterior.\n",
    "5. Selecciona el modelo cuya variable agregada tiene el menor valor-p\n",
    "6. Repite los pasos 4 y 5 hasta que el valor-p de la variable agregada es mayor al nivel de significancia\n",
    "\n",
    "## **Bidirectional Elimination**\n",
    "\n",
    "1. Selecciona un nivel de significancia para entrar y permanecer en el modelo, normalmente se toma 5%\n",
    "2. Asi como en el metodo de forward selection, crea todos los modelos de regresion simple posibles, es decir, crea un modelo por cada variable predictora y agrega una variable extra (nuevas variables deben de tener un valor-p < nivel de significancia para poder entrar)\n",
    "3. Realiza todos los pasos del metodo de Backwards elimination (Las variables deben de tener un valor-p < nivel de significancia para poder permanecer en el modelo)\n",
    "4. Repite los pasos 2 y 3 hasta que no se puedan integrar o eliminar mas variables\n",
    "\n",
    "## **Score Comparison**\n",
    "\n",
    "1. Selecciona un criterio de bondad de ajuste, por ejemplo criterio de Akaike\n",
    "2. Crea todos los modelos posibles. Para n variables, se tiene $2^n-1$ posibles modelos\n",
    "3. Selecciona el modelo que muestre un mejor ajuste de acuerdo con el criterio\n",
    "\n"
   ]
  }
 ],
 "metadata": {
  "language_info": {
   "name": "python"
  }
 },
 "nbformat": 4,
 "nbformat_minor": 2
}
