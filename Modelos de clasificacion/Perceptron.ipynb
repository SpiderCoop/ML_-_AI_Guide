{
 "cells": [
  {
   "cell_type": "markdown",
   "metadata": {},
   "source": [
    "# Modelo de Perceptrón\n",
    "\n",
    "El perceptrón es uno de los modelos más básicos y fundamentales en el campo del aprendizaje automático, particularmente en redes neuronales. Es un modelo lineal de clasificación que sirve como un bloque de construcción para redes neuronales más complejas. Fue introducido por Frank Rosenblatt en 1958 y es capaz de resolver problemas de clasificación binaria.\n",
    "\n",
    "## Estructura del Modelo de Perceptrón\n",
    "\n",
    "El perceptrón simula una neurona en la cual se reciben múltiples entradas (features), se ponderan por medio de pesos asociados, y se realiza una suma ponderada que es luego pasada a través de una función de activación para tomar una decisión de clasificación.\n",
    "\n",
    "### Ecuación del Modelo\n",
    "\n",
    "El modelo de perceptrón se define como:\n",
    "\n",
    "$$\n",
    "y = \\phi \\left( \\sum_{i=1}^{n} w_i x_i + b \\right)\n",
    "$$\n",
    "\n",
    "donde:\n",
    "- $y$ es la salida del perceptrón (clasificación).\n",
    "- $x_i$ es la $i$-ésima entrada (feature).\n",
    "- $w_i$ es el peso asociado con la entrada $x_i$.\n",
    "- $b$ es el sesgo o bias del modelo.\n",
    "- $\\phi(\\cdot)$ es la función de activación, generalmente una función escalón (Heaviside) que devuelve 1 si la suma ponderada es mayor que un umbral, y 0 en caso contrario.\n",
    "\n",
    "$$\n",
    "\\phi(z) = \n",
    "\\begin{cases} \n",
    "1 & \\text{si } z \\geq 0 \\\\\n",
    "0 & \\text{si } z < 0 \n",
    "\\end{cases}\n",
    "$$\n",
    "\n",
    "El propósito del perceptrón es clasificar las entradas en dos clases diferentes (clasificación binaria) aprendiendo una frontera de decisión lineal entre las clases. Este modelo es adecuado para problemas linealmente separables, donde se puede trazar una línea recta (en dos dimensiones) o un hiperplano (en dimensiones superiores) que divida perfectamente las clases.\n",
    "\n",
    "## Entrenamiento del Modelo\n",
    "\n",
    "El perceptrón se entrena utilizando un algoritmo iterativo que ajusta los pesos y el sesgo para minimizar el error de clasificación. El algoritmo de entrenamiento se basa en la regla de actualización de los pesos:\n",
    "\n",
    "1. Inicializar los pesos $w_i$ y el sesgo $b$ con valores pequeños, generalmente aleatorios.\n",
    "2. Para cada muestra de entrenamiento $(x_i, y_i)$:\n",
    "   - Calcular la salida predicha: $\\hat{y} = \\phi \\left( \\sum_{i=1}^{n} w_i x_i + b \\right)$\n",
    "   - Actualizar los pesos y el sesgo:\n",
    "   $$\n",
    "   w_i \\leftarrow w_i + \\eta (y_i - \\hat{y}) x_i\n",
    "   $$\n",
    "   $$\n",
    "   b \\leftarrow b + \\eta (y_i - \\hat{y})\n",
    "   $$\n",
    "      donde $\\eta$ es la tasa de aprendizaje (learning rate).\n",
    "3. Repetir el proceso hasta que los errores se reduzcan a cero o hasta que se alcance un número máximo de iteraciones.\n",
    "\n",
    "## Supuestos\n",
    "\n",
    "Los supuestos principales del perceptrón son:\n",
    "1. **Linealidad**: Las clases deben ser linealmente separables para que el perceptrón pueda encontrar una solución óptima.\n",
    "2. **Determinismo**: Dado un conjunto de pesos y bias, el perceptrón siempre produce la misma salida para una entrada dada.\n",
    "3. **No Probabilístico**: El perceptrón no proporciona probabilidades para las clases, sino una decisión determinista.\n",
    "\n",
    "## Ejemplo de Aplicación\n",
    "\n",
    "Supongamos que deseamos clasificar puntos en un plano (2D) en dos clases distintas (0 y 1) basándonos en sus coordenadas $x_1$ y $x_2$.\n",
    "\n",
    "### Datos de Ejemplo:\n",
    "\n",
    "$$\n",
    "\\begin{array}{ccc}\n",
    "x_1 & x_2 & y \\\\\n",
    "2.0 & 3.0 & 1 \\\\\n",
    "1.0 & 1.0 & 0 \\\\\n",
    "2.5 & 1.5 & 1 \\\\\n",
    "1.0 & 0.5 & 0 \\\\\n",
    "3.0 & 2.5 & 1 \\\\\n",
    "\\end{array}\n",
    "$$\n"
   ]
  },
  {
   "cell_type": "code",
   "execution_count": 1,
   "metadata": {},
   "outputs": [
    {
     "name": "stdout",
     "output_type": "stream",
     "text": [
      "Pesos finales: [5.00000000e-02 1.38777878e-17]\n",
      "Sesgo final: -0.1\n",
      "Clasificación del nuevo punto: 1\n"
     ]
    }
   ],
   "source": [
    "import numpy as np\n",
    "\n",
    "# Datos de ejemplo\n",
    "X = np.array([[2.0, 3.0], [1.0, 1.0], [2.5, 1.5], [1.0, 0.5], [3.0, 2.5]])\n",
    "y = np.array([1, 0, 1, 0, 1])\n",
    "\n",
    "# Inicialización de pesos y sesgo\n",
    "weights = np.zeros(X.shape[1])\n",
    "bias = 0\n",
    "learning_rate = 0.1\n",
    "max_iterations = 100\n",
    "\n",
    "# Entrenamiento del perceptrón\n",
    "for _ in range(max_iterations):\n",
    "    for i in range(len(X)):\n",
    "        linear_output = np.dot(X[i], weights) + bias\n",
    "        y_pred = 1 if linear_output >= 0 else 0\n",
    "        \n",
    "        # Actualización de pesos y sesgo\n",
    "        update = learning_rate * (y[i] - y_pred)\n",
    "        weights += update * X[i]\n",
    "        bias += update\n",
    "\n",
    "# Resultados\n",
    "print(\"Pesos finales:\", weights)\n",
    "print(\"Sesgo final:\", bias)\n",
    "\n",
    "# Prueba con un nuevo punto\n",
    "new_point = np.array([2.0, 2.0])\n",
    "result = np.dot(new_point, weights) + bias\n",
    "print(\"Clasificación del nuevo punto:\", 1 if result >= 0 else 0)\n"
   ]
  },
  {
   "cell_type": "markdown",
   "metadata": {},
   "source": [
    "## Interpretación\n",
    "\n",
    "- **Pesos $w_1, w_2$**: Los pesos indican la importancia de cada característica ($x_1$ y $x_2$) en la clasificación. Sin embargo, hay que tener en contexto el problema a resolver, ya que puede no tener una interpretacion directa sobre la relevancia de las caracteristicas.\n",
    "- **Sesgo $b$**: El sesgo ajusta el umbral de decisión de la función de activación.\n",
    "- **Salida $y$**: La salida es la clasificación binaria del perceptrón."
   ]
  },
  {
   "cell_type": "markdown",
   "metadata": {},
   "source": [
    "## Evaluación del Modelo\n",
    "\n",
    "La evaluación del perceptrón se puede realizar mediante:\n",
    "\n",
    "1. **Exactitud (Accuracy)**: Proporción de clasificaciones correctas."
   ]
  },
  {
   "cell_type": "code",
   "execution_count": null,
   "metadata": {},
   "outputs": [],
   "source": [
    "from sklearn.metrics import accuracy_score\n",
    "y_pred = np.array([1 if np.dot(x, weights) + bias >= 0 else 0 for x in X])\n",
    "accuracy = accuracy_score(y, y_pred)\n",
    "print(\"Exactitud:\", accuracy)"
   ]
  },
  {
   "cell_type": "markdown",
   "metadata": {},
   "source": [
    "2. **Matriz de Confusión**: Para evaluar el rendimiento en cada clase."
   ]
  },
  {
   "cell_type": "code",
   "execution_count": null,
   "metadata": {},
   "outputs": [],
   "source": [
    "from sklearn.metrics import confusion_matrix\n",
    "print(\"Matriz de Confusión:\\n\", confusion_matrix(y, y_pred))\n"
   ]
  }
 ],
 "metadata": {
  "kernelspec": {
   "display_name": "Python 3",
   "language": "python",
   "name": "python3"
  },
  "language_info": {
   "codemirror_mode": {
    "name": "ipython",
    "version": 3
   },
   "file_extension": ".py",
   "mimetype": "text/x-python",
   "name": "python",
   "nbconvert_exporter": "python",
   "pygments_lexer": "ipython3",
   "version": "3.12.2"
  }
 },
 "nbformat": 4,
 "nbformat_minor": 2
}
