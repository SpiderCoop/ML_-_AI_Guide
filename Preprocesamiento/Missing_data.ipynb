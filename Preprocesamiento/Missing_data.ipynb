{
 "cells": [
  {
   "cell_type": "markdown",
   "metadata": {},
   "source": [
    "# Missing Data\n",
    "\n",
    "Manejar los datos faltantes en una base de datos es crucial por varias razones, ya que los datos faltantes pueden afectar significativamente la calidad de los análisis y los resultados de los modelos de machine learning."
   ]
  },
  {
   "cell_type": "markdown",
   "metadata": {},
   "source": [
    "## 1. Eliminacion de valores faltantes\n",
    "\n",
    "Se usa de manera comoda cuando la cantidad de datos faltantes es pequeña y la eliminación no afectará significativamente el análisis."
   ]
  },
  {
   "cell_type": "code",
   "execution_count": 21,
   "metadata": {},
   "outputs": [
    {
     "name": "stdout",
     "output_type": "stream",
     "text": [
      "Filas sin valores faltantes:\n",
      "      A    B    C\n",
      "3  4.0  4.0  4.0\n",
      "Columnas sin valores faltantes:\n",
      " Empty DataFrame\n",
      "Columns: []\n",
      "Index: [0, 1, 2, 3]\n"
     ]
    }
   ],
   "source": [
    "import pandas as pd\n",
    "\n",
    "# Datos de ejemplo\n",
    "data = pd.DataFrame({\n",
    "    'A': [1, 2, None, 4],\n",
    "    'B': [None, 2, 3, 4],\n",
    "    'C': [1, None, None, 4]\n",
    "})\n",
    "\n",
    "# Eliminar filas con valores faltantes\n",
    "data_drop_rows = data.dropna()\n",
    "\n",
    "# Eliminar columnas con valores faltantes\n",
    "data_drop_cols = data.dropna(axis=1)\n",
    "\n",
    "print(\"Filas sin valores faltantes:\\n\", data_drop_rows)\n",
    "print(\"Columnas sin valores faltantes:\\n\", data_drop_cols)\n"
   ]
  },
  {
   "cell_type": "markdown",
   "metadata": {},
   "source": [
    "## 2. Imputacion simple\n",
    "\n",
    "Se llenan los datos faltantes con alguna estadistica simple como la media, moda o mediana. Se puede hacer estratificacion o filtrado para dar mayor precisión\n"
   ]
  },
  {
   "cell_type": "code",
   "execution_count": 23,
   "metadata": {},
   "outputs": [
    {
     "name": "stdout",
     "output_type": "stream",
     "text": [
      "Datos imputados con la media:\n",
      " [[1.         3.         1.        ]\n",
      " [2.         2.         2.5       ]\n",
      " [2.33333333 3.         2.5       ]\n",
      " [4.         4.         4.        ]]\n",
      "Datos imputados con la mediana:\n",
      " [[1.        ]\n",
      " [2.        ]\n",
      " [2.33333333]\n",
      " [4.        ]]\n"
     ]
    }
   ],
   "source": [
    "from sklearn.impute import SimpleImputer\n",
    "\n",
    "# Imputación con la media a toda la base\n",
    "imputer_mean = SimpleImputer(strategy='mean') # Reemplaza mean con median o most_frequent\n",
    "data_mean_imputed = imputer_mean.fit_transform(data)\n",
    "\n",
    "# Imputación con la media solo a ciertas columnas\n",
    "imputer_mean_1 = SimpleImputer(strategy='mean') # Reemplaza mean con median o most_frequent\n",
    "data_mean_imputed_1 = imputer_mean_1.fit_transform(data.iloc[:, 0:1])\n",
    "\n",
    "print(\"Datos imputados con la media:\\n\", data_mean_imputed)\n",
    "print(\"Datos imputados con la media solo a una columna:\\n\", data_mean_imputed_1)\n"
   ]
  },
  {
   "cell_type": "markdown",
   "metadata": {},
   "source": [
    "## 3. Imputación con Valores Constantes\n",
    "\n",
    "Se puede usar cuando existe un valor específico que tiene sentido para imputar los valores faltantes, como 0 para características numéricas o 'missing' para categóricas."
   ]
  },
  {
   "cell_type": "code",
   "execution_count": null,
   "metadata": {},
   "outputs": [],
   "source": [
    "# Imputación con un valor constante\n",
    "imputer_constant = SimpleImputer(strategy='constant', fill_value=0)\n",
    "data_constant_imputed = imputer_constant.fit_transform(data)\n",
    "\n",
    "print(\"Datos imputados con un valor constante:\\n\", data_constant_imputed)\n"
   ]
  },
  {
   "cell_type": "markdown",
   "metadata": {},
   "source": [
    "## 4. Imputación Basada en Vecinos (KNN Imputation)\n",
    "\n",
    "Se puede usar cuando la relación entre características es compleja y puede ser mejor capturada por los vecinos más cercanos."
   ]
  },
  {
   "cell_type": "code",
   "execution_count": null,
   "metadata": {},
   "outputs": [],
   "source": [
    "from sklearn.impute import KNNImputer\n",
    "\n",
    "# Imputación basada en KNN\n",
    "imputer_knn = KNNImputer(n_neighbors=2)\n",
    "data_knn_imputed = imputer_knn.fit_transform(data)\n",
    "\n",
    "print(\"Datos imputados con KNN:\\n\", data_knn_imputed)\n"
   ]
  },
  {
   "cell_type": "markdown",
   "metadata": {},
   "source": [
    "## 5. Imputación con Modelos Predictivos\n",
    "\n",
    "Se puede usar cuando se desea utilizar la información de otras características para predecir los valores faltantes. Aqui se pueden usar diferentes modelos de aprendizaje de máquina."
   ]
  },
  {
   "cell_type": "code",
   "execution_count": null,
   "metadata": {},
   "outputs": [],
   "source": [
    "from sklearn.linear_model import LinearRegression\n",
    "\n",
    "# Supongamos que queremos imputar la columna 'A' usando las columnas 'B' y 'C'\n",
    "train = data.dropna(subset=['A'])\n",
    "predict = data[data['A'].isna()]\n",
    "\n",
    "X_train = train[['B', 'C']]\n",
    "y_train = train['A']\n",
    "X_predict = predict[['B', 'C']]\n",
    "\n",
    "# Entrenar el modelo\n",
    "model = LinearRegression()\n",
    "model.fit(X_train, y_train)\n",
    "\n",
    "# Predecir los valores faltantes\n",
    "data.loc[data['A'].isna(), 'A'] = model.predict(X_predict)\n",
    "\n",
    "print(\"Datos imputados con un modelo predictivo:\\n\", data)\n"
   ]
  },
  {
   "cell_type": "markdown",
   "metadata": {},
   "source": [
    "## 6. Interpolación\n",
    "\n",
    "Se puede usar cuando los valores faltantes siguen un patrón temporal o secuencial. Existen diferentes metodos, cada uno se adapta mejor a cierto patron.\n",
    "\n",
    "- Interpolación Lineal: Adecuada para datos que se espera que cambien de manera constante y gradual. Es útil para datos temporales o espaciales con intervalos regulares y cambios suaves.\n",
    "\n",
    "- Interpolación Polinómica: Útil cuando los datos tienen una relación no lineal, pero puede ser sensible a los outliers y puede producir oscilaciones no deseadas para polinomios de orden alto.\n",
    "\n",
    "- Interpolación Spline: Adecuada para datos que requieren una interpolación suave y continua. Es ideal para datos temporales o espaciales con cambios suaves pero no necesariamente lineales."
   ]
  },
  {
   "cell_type": "code",
   "execution_count": null,
   "metadata": {},
   "outputs": [],
   "source": [
    "# Interpolación lineal\n",
    "data_interpolated = data.interpolate()\n",
    "\n",
    "print(\"Datos interpolados:\\n\", data_interpolated)\n"
   ]
  },
  {
   "cell_type": "markdown",
   "metadata": {},
   "source": [
    "## 7. Imputación por Forward Fill y Backward Fill\n",
    "\n",
    "Se puede usar cuando los datos tienen un orden natural y se puede asumir que los valores faltantes son similares a los valores anteriores o posteriores."
   ]
  },
  {
   "cell_type": "code",
   "execution_count": null,
   "metadata": {},
   "outputs": [],
   "source": [
    "# Forward fill\n",
    "data_ffill = data.ffill()\n",
    "\n",
    "# Backward fill\n",
    "data_bfill = data.bfill()\n",
    "\n",
    "print(\"Datos con forward fill:\\n\", data_ffill)\n",
    "print(\"Datos con backward fill:\\n\", data_bfill)\n"
   ]
  },
  {
   "cell_type": "markdown",
   "metadata": {},
   "source": [
    "## 8. Uso de Variables Indicadoras\n",
    "\n",
    "Se puede usar para conservar información sobre la falta de datos, creando una nueva columna que indique si el valor era originalmente faltante."
   ]
  },
  {
   "cell_type": "code",
   "execution_count": null,
   "metadata": {},
   "outputs": [],
   "source": [
    "# Crear una variable indicadora para la columna 'A'\n",
    "data['A_missing'] = data['A'].isna().astype(int)\n",
    "\n",
    "# Imputar la columna 'A' con la media\n",
    "imputer = SimpleImputer(strategy='mean')\n",
    "data['A'] = imputer.fit_transform(data[['A']])\n",
    "\n",
    "print(\"Datos con variable indicadora y imputación:\\n\", data)\n"
   ]
  },
  {
   "cell_type": "markdown",
   "metadata": {},
   "source": [
    "## 9. Multiple Imputation by Chained Equations (MICE) \n",
    "\n",
    "La **Imputación Múltiple mediante Ecuaciones Encadenadas**, es una técnica para manejar valores faltantes en conjuntos de datos. A diferencia de los métodos simples de imputación (como reemplazar los valores faltantes por la media o la mediana), MICE imputa los valores faltantes múltiples veces, lo que genera varias versiones del conjunto de datos con diferentes valores imputados. Luego, los resultados se combinan para dar una estimación más robusta y precisa.\n",
    "\n",
    "### Metodología\n",
    "\n",
    "El proceso de MICE consiste en realizar una imputación iterativa para cada valor faltante, utilizando un modelo adecuado para cada variable que tenga datos faltantes. El algoritmo sigue estos pasos:\n",
    "\n",
    "1. **Imputación Inicial**: Se realiza una imputación inicial para los valores faltantes (puede ser con la media, mediana u otra técnica).\n",
    "2. **Modelos por Variable**: Para cada variable con valores faltantes, se ajusta un modelo predictivo en función de las demás variables. Este modelo se usa para imputar los valores faltantes de esa variable.\n",
    "3. **Imputación Iterativa**: El proceso se repite iterativamente para cada variable hasta que se estabilizan los valores imputados.\n",
    "4. **Imputaciones Múltiples**: Se repite el proceso varias veces para obtener diferentes conjuntos de datos completos, con el fin de reflejar la incertidumbre asociada a los valores imputados.\n",
    "5. **Combinación de Resultados**: Los análisis se realizan en cada conjunto de datos imputado, y los resultados se combinan para obtener inferencias finales.\n",
    "\n",
    "### Ventajas de MICE\n",
    "- **Múltiples Imputaciones**: Al hacer varias imputaciones, MICE captura la variabilidad en los datos imputados, lo que da lugar a estimaciones más robustas.\n",
    "- **Modelos Flexibles**: Cada variable puede tener su propio modelo de imputación, lo que permite ajustar modelos complejos para diferentes tipos de variables (continuas, categóricas, etc.).\n",
    "\n",
    "### Ejemplo en Python con `fancyimpute`\n",
    "\n",
    "A continuación, un ejemplo de cómo usar MICE en Python con la biblioteca `fancyimpute` o `IterativeImputer` de `scikit-learn`."
   ]
  },
  {
   "cell_type": "code",
   "execution_count": null,
   "metadata": {},
   "outputs": [],
   "source": [
    "# Importar las bibliotecas necesarias\n",
    "import numpy as np\n",
    "import pandas as pd\n",
    "from sklearn.experimental import enable_iterative_imputer  # Necesario para usar IterativeImputer\n",
    "from sklearn.impute import IterativeImputer\n",
    "\n",
    "# Crear un conjunto de datos con valores faltantes\n",
    "np.random.seed(42)\n",
    "data = pd.DataFrame({\n",
    "    'A': [1, 2, np.nan, 4, 5],\n",
    "    'B': [5, np.nan, np.nan, 8, 10],\n",
    "    'C': [10, 20, 30, np.nan, 50]\n",
    "})\n",
    "\n",
    "print(\"Datos originales con valores faltantes:\")\n",
    "print(data)\n",
    "\n",
    "# Inicializar el imputador MICE\n",
    "mice_imputer = IterativeImputer(max_iter=10, random_state=0)\n",
    "\n",
    "# Ajustar el imputador y transformar los datos\n",
    "imputed_data = mice_imputer.fit_transform(data)\n",
    "\n",
    "# Convertir el resultado a DataFrame para visualizarlo mejor\n",
    "imputed_data_df = pd.DataFrame(imputed_data, columns=data.columns)\n",
    "\n",
    "print(\"\\nDatos imputados:\")\n",
    "print(imputed_data_df)"
   ]
  }
 ],
 "metadata": {
  "kernelspec": {
   "display_name": "Python 3",
   "language": "python",
   "name": "python3"
  },
  "language_info": {
   "codemirror_mode": {
    "name": "ipython",
    "version": 3
   },
   "file_extension": ".py",
   "mimetype": "text/x-python",
   "name": "python",
   "nbconvert_exporter": "python",
   "pygments_lexer": "ipython3",
   "version": "3.12.2"
  }
 },
 "nbformat": 4,
 "nbformat_minor": 2
}
