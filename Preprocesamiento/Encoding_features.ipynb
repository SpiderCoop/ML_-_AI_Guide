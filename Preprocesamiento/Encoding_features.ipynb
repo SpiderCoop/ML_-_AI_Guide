{
 "cells": [
  {
   "cell_type": "markdown",
   "metadata": {},
   "source": [
    "# Encoding features\n",
    "\n",
    "Codificar (o encode) las características es una etapa crucial en el preprocesamiento de datos para machine learning y análisis de datos. Las razones para codificar las características incluyen:\n",
    "\n",
    "- Compatibilidad con Algoritmos de Machine Learning\n",
    "- Reducción de Dimensionalidad\n",
    "- Captura de Información Relevante \n",
    "- Evitar Sesgos\n",
    "- Facilitación del Análisis Exploratorio de Datos y Visualización\n",
    "- Facilita realizar Estadísticas Descriptivas\n",
    "- Mejor manejo de datos categoricos y ordinales"
   ]
  },
  {
   "cell_type": "markdown",
   "metadata": {},
   "source": [
    "\n",
    "\n",
    "### Métodos Comunes de Codificación de Características\n",
    "\n",
    "#### 1. **One-Hot Encoding**\n",
    "\n",
    "Convierte cada categoría en una columna binaria. Útil para datos categóricos sin orden inherente y con pocas categorías. Evita la interpretación errónea de un orden."
   ]
  },
  {
   "cell_type": "code",
   "execution_count": 2,
   "metadata": {},
   "outputs": [
    {
     "name": "stdout",
     "output_type": "stream",
     "text": [
      "Datos con One-Hot Encoding:\n",
      " [[0. 1. 0.]\n",
      " [0. 0. 1.]\n",
      " [1. 0. 0.]\n",
      " [0. 1. 0.]\n",
      " [1. 0. 0.]]\n"
     ]
    }
   ],
   "source": [
    "import pandas as pd\n",
    "from sklearn.compose import ColumnTransformer\n",
    "from sklearn.preprocessing import OneHotEncoder\n",
    "\n",
    "# Datos de ejemplo: Se crea un DataFrame con una columna 'Color' que contiene categorías como 'Rojo', 'Verde' y 'Azul'.\n",
    "data = pd.DataFrame({\n",
    "    'Color': ['Rojo', 'Verde', 'Azul', 'Rojo', 'Azul']\n",
    "})\n",
    "\n",
    "# One-hot encoding\n",
    "# Aquí se utiliza el transformador de columnas (ColumnTransformer) para aplicar el OneHotEncoder a la columna 'Color'.\n",
    "# El parámetro 'transformers' recibe una lista de tuplas, donde cada tupla define un transformador.\n",
    "# En este caso, la tupla tiene tres elementos:\n",
    "# 1. Un nombre descriptivo para el transformador ('encoder').\n",
    "# 2. El transformador que se aplicará (OneHotEncoder()).\n",
    "# 3. Las columnas a las que se aplicará el transformador ([0]), en este caso, la primera columna (índice 0) del DataFrame.\n",
    "# El parámetro 'remainder' se establece en 'passthrough', lo que significa que cualquier columna no transformada se dejará tal cual.\n",
    "\n",
    "ct = ColumnTransformer(transformers=[('encoder', OneHotEncoder(), [0])], remainder='passthrough')\n",
    "\n",
    "# Se aplica el transformador definido al DataFrame 'data' para convertir la columna 'Color' en variables dummy (one-hot encoding).\n",
    "# El método 'fit_transform' ajusta el transformador a los datos y luego transforma los datos en una matriz.\n",
    "data_encoded = ct.fit_transform(data)\n",
    "\n",
    "# Se imprime el resultado del one-hot encoding. El resultado es una matriz donde cada columna representa una categoría\n",
    "# en la columna original 'Color'. Cada fila tiene un valor de 1 en la columna que corresponde al color original.\n",
    "print(\"Datos con One-Hot Encoding:\\n\", data_encoded)\n"
   ]
  },
  {
   "cell_type": "markdown",
   "metadata": {},
   "source": [
    "#### 2. **Label Encoding**\n",
    "\n",
    "Asigna un número entero único a cada categoría. Adecuado para datos ordinales o cuando las categorías tienen un orden natural. También útil cuando hay muchas categorías y one-hot encoding no es práctico."
   ]
  },
  {
   "cell_type": "code",
   "execution_count": 4,
   "metadata": {},
   "outputs": [
    {
     "name": "stdout",
     "output_type": "stream",
     "text": [
      "Datos con Label Encoding:\n",
      "    Color  Color_encoded\n",
      "0   Rojo              1\n",
      "1  Verde              2\n",
      "2   Azul              0\n",
      "3   Rojo              1\n",
      "4   Azul              0\n"
     ]
    }
   ],
   "source": [
    "from sklearn.preprocessing import LabelEncoder\n",
    "import pandas as pd\n",
    "\n",
    "# Datos de ejemplo: Se crea un DataFrame con una columna 'Color' que contiene categorías como 'Rojo', 'Verde' y 'Azul'.\n",
    "data = pd.DataFrame({\n",
    "    'Color': ['Rojo', 'Verde', 'Azul', 'Rojo', 'Azul']\n",
    "})\n",
    "\n",
    "# Label encoding\n",
    "# Se crea una instancia de LabelEncoder, que se utilizará para convertir las categorías de texto en valores numéricos.\n",
    "label_encoder = LabelEncoder()\n",
    "\n",
    "# Se aplica el encoder a la columna 'Color'.\n",
    "# El método 'fit_transform' realiza dos operaciones:\n",
    "# 1. 'fit': Aprende las etiquetas únicas en la columna 'Color' y las asigna a un valor numérico.\n",
    "# 2. 'transform': Convierte las etiquetas en sus valores numéricos correspondientes.\n",
    "# El resultado se almacena en una nueva columna 'Color_encoded' del DataFrame original.\n",
    "data['Color_encoded'] = label_encoder.fit_transform(data['Color'])\n",
    "\n",
    "# Se imprime el DataFrame original con la nueva columna 'Color_encoded', que contiene los valores numéricos para cada color.\n",
    "print(\"Datos con Label Encoding:\\n\", data)\n"
   ]
  },
  {
   "cell_type": "markdown",
   "metadata": {},
   "source": [
    "#### 3. **Ordinal Encoding**\n",
    "\n",
    "Específicamente para datos ordinales donde el orden es importante.\n"
   ]
  },
  {
   "cell_type": "code",
   "execution_count": 5,
   "metadata": {},
   "outputs": [
    {
     "name": "stdout",
     "output_type": "stream",
     "text": [
      "Datos con Ordinal Encoding:\n",
      "       Size  Size_encoded\n",
      "0  Pequeño           0.0\n",
      "1    Medio           1.0\n",
      "2   Grande           2.0\n",
      "3    Medio           1.0\n",
      "4  Pequeño           0.0\n"
     ]
    }
   ],
   "source": [
    "from sklearn.preprocessing import OrdinalEncoder\n",
    "import pandas as pd\n",
    "\n",
    "# Datos de ejemplo: Se crea un DataFrame con una columna 'Size' que contiene categorías ordenadas como 'Pequeño', 'Medio' y 'Grande'.\n",
    "data = pd.DataFrame({\n",
    "    'Size': ['Pequeño', 'Medio', 'Grande', 'Medio', 'Pequeño']\n",
    "})\n",
    "\n",
    "# Ordinal encoding\n",
    "# Se crea una instancia de OrdinalEncoder para convertir las categorías en valores numéricos basados en un orden específico.\n",
    "# El parámetro 'categories' define explícitamente el orden de las categorías. En este caso:\n",
    "# 'Pequeño' -> 0\n",
    "# 'Medio'   -> 1\n",
    "# 'Grande'  -> 2\n",
    "# El orden de las categorías es importante ya que influye en la interpretación de los valores numéricos asignados.\n",
    "\n",
    "ordinal_encoder = OrdinalEncoder(categories=[['Pequeño', 'Medio', 'Grande']])\n",
    "\n",
    "# Se aplica el encoder a la columna 'Size'.\n",
    "# El método 'fit_transform' realiza dos operaciones:\n",
    "# 1. 'fit': Aprende las categorías y su orden en la columna 'Size'.\n",
    "# 2. 'transform': Convierte las categorías en valores numéricos de acuerdo al orden especificado.\n",
    "# El resultado se almacena en una nueva columna 'Size_encoded' del DataFrame original.\n",
    "data['Size_encoded'] = ordinal_encoder.fit_transform(data[['Size']])\n",
    "\n",
    "# Se imprime el DataFrame original con la nueva columna 'Size_encoded', que contiene los valores numéricos correspondientes.\n",
    "print(\"Datos con Ordinal Encoding:\\n\", data)\n"
   ]
  },
  {
   "cell_type": "markdown",
   "metadata": {},
   "source": [
    "\n",
    "#### 4. **Target Encoding (Mean Encoding)**\n",
    "\n",
    "Reemplaza cada categoría con la media de la variable objetivo. Útil en problemas supervisados cuando existe una relación fuerte entre la categoría y la variable objetivo."
   ]
  },
  {
   "cell_type": "code",
   "execution_count": 7,
   "metadata": {},
   "outputs": [
    {
     "name": "stdout",
     "output_type": "stream",
     "text": [
      "Datos con Target Encoding:\n",
      "   Category  Target  Category_encoded\n",
      "0        A       1          1.333333\n",
      "1        B       2          2.000000\n",
      "2        A       1          1.333333\n",
      "3        C       3          3.000000\n",
      "4        B       2          2.000000\n",
      "5        A       2          1.333333\n"
     ]
    }
   ],
   "source": [
    "import pandas as pd\n",
    "\n",
    "# Datos de ejemplo: Se crea un DataFrame con dos columnas, 'Category' y 'Target'.\n",
    "# 'Category' contiene categorías ('A', 'B', 'C') que serán codificadas.\n",
    "# 'Target' contiene valores numéricos que se utilizarán para calcular la codificación.\n",
    "\n",
    "data = pd.DataFrame({\n",
    "    'Category': ['A', 'B', 'A', 'C', 'B', 'A'],\n",
    "    'Target': [1, 2, 1, 3, 2, 2]\n",
    "})\n",
    "\n",
    "# Target encoding\n",
    "# El target encoding consiste en reemplazar cada categoría en 'Category' con la media de los valores de la columna 'Target' asociados a esa categoría.\n",
    "# Primero, agrupamos los datos por la columna 'Category' y calculamos la media de 'Target' para cada categoría.\n",
    "mean_target = data.groupby('Category')['Target'].mean()\n",
    "\n",
    "# Luego, usamos el método 'map' para reemplazar cada valor en la columna 'Category' por su media correspondiente.\n",
    "# Esto genera una nueva columna 'Category_encoded' en el DataFrame con los valores codificados.\n",
    "data['Category_encoded'] = data['Category'].map(mean_target)\n",
    "\n",
    "# Se imprime el DataFrame original con la nueva columna 'Category_encoded', que contiene los valores codificados.\n",
    "print(\"Datos con Target Encoding:\\n\", data)\n"
   ]
  },
  {
   "cell_type": "markdown",
   "metadata": {},
   "source": [
    "#### 5. **Frequency Encoding**\n",
    "\n",
    "Reemplaza cada categoría con su frecuencia de aparición en los datos. Adecuado cuando la frecuencia de las categorías es una característica relevante para el modelo.\n"
   ]
  },
  {
   "cell_type": "code",
   "execution_count": 1,
   "metadata": {},
   "outputs": [
    {
     "name": "stdout",
     "output_type": "stream",
     "text": [
      "Datos con Frequency Encoding:\n",
      "   Category  Target  Category_encoded\n",
      "0        A       1          0.500000\n",
      "1        B       2          0.333333\n",
      "2        A       1          0.500000\n",
      "3        C       3          0.166667\n",
      "4        B       2          0.333333\n",
      "5        A       1          0.500000\n"
     ]
    }
   ],
   "source": [
    "import pandas as pd \n",
    "\n",
    "# Datos de ejemplo: Se crea un DataFrame con dos columnas, 'Category' y 'Target'.\n",
    "# 'Category' contiene categorías ('A', 'B', 'C') que serán codificadas.\n",
    "# 'Target' contiene valores numéricos que se usarán para alguna tarea posterior.\n",
    "\n",
    "data = pd.DataFrame({\n",
    "    'Category': ['A', 'B', 'A', 'C', 'B', 'A'],\n",
    "    'Target': [1, 2, 1, 3, 2, 2]\n",
    "})\n",
    "\n",
    "# Frequency encoding\n",
    "# El frequency encoding consiste en reemplazar cada categoría en 'Category' con la frecuencia relativa de esa categoría en el conjunto de datos.\n",
    "# Primero, calculamos la frecuencia relativa de cada categoría dividiendo el número de ocurrencias de cada categoría entre el número total de filas.\n",
    "\n",
    "# 'value_counts()' cuenta cuántas veces aparece cada categoría en la columna 'Category'.\n",
    "# Luego, dividimos por la longitud total del DataFrame (número total de filas) para obtener la frecuencia relativa.\n",
    "frequency_encoding = data['Category'].value_counts() / len(data)\n",
    "\n",
    "# Usamos el método 'map' para reemplazar cada valor en la columna 'Category' por su frecuencia relativa.\n",
    "# Esto genera una nueva columna 'Category_encoded' en el DataFrame con los valores codificados.\n",
    "data['Category_encoded'] = data['Category'].map(frequency_encoding)\n",
    "\n",
    "# Se imprime el DataFrame original con la nueva columna 'Category_encoded', que contiene las frecuencias relativas de las categorías.\n",
    "print(\"Datos con Frequency Encoding:\\n\", data)\n"
   ]
  }
 ],
 "metadata": {
  "kernelspec": {
   "display_name": "Python 3",
   "language": "python",
   "name": "python3"
  },
  "language_info": {
   "codemirror_mode": {
    "name": "ipython",
    "version": 3
   },
   "file_extension": ".py",
   "mimetype": "text/x-python",
   "name": "python",
   "nbconvert_exporter": "python",
   "pygments_lexer": "ipython3",
   "version": "3.12.2"
  }
 },
 "nbformat": 4,
 "nbformat_minor": 2
}
